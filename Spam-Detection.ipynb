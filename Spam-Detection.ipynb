{
 "cells": [
  {
   "cell_type": "markdown",
   "id": "e60b4d1f",
   "metadata": {},
   "source": [
    "# Spam Comments Detection with Machine Learning"
   ]
  },
  {
   "cell_type": "markdown",
   "id": "b6b5d705",
   "metadata": {},
   "source": [
    "Spam comments detection means classifying comments as spam or not spam. YouTube is one of the platforms that uses Machine Learning to filter spam comments automatically to save its creators from spam comments. \n",
    "\n",
    "Detecting spam comments is the task of text classification in Machine Learning. Spam comments on social media platforms are the type of comments posted to redirect the user to another social media account, website or any piece of content.\n",
    "\n",
    "To detect spam comments with Machine Learning, we need labelled data of spam comments. "
   ]
  },
  {
   "cell_type": "code",
   "execution_count": 1,
   "id": "66723b92",
   "metadata": {},
   "outputs": [],
   "source": [
    "import pandas as pd\n",
    "import numpy as np\n",
    "from sklearn.feature_extraction.text import CountVectorizer\n",
    "from sklearn.model_selection import train_test_split\n",
    "from sklearn.naive_bayes import BernoulliNB"
   ]
  },
  {
   "cell_type": "code",
   "execution_count": 2,
   "id": "cf7e704c",
   "metadata": {},
   "outputs": [
    {
     "name": "stdout",
     "output_type": "stream",
     "text": [
      "                                COMMENT_ID                    AUTHOR  \\\n",
      "203      z13cc1abmqz5cjpkc223ybzavyibznjey                       전광용   \n",
      "84   z13vs53zipmszf1ib04cerd5xlmzdz5qlzw0k          Minecraft-Viasat   \n",
      "298    z12mubjyckfjvhmni23bc5nxbnrggtvjq04  Bishwaroop Bhattacharjee   \n",
      "27     z13kszcinpnvc34v2234fnpxkpmlw3nhc04                Kyle Jaber   \n",
      "162      z13dvrmxorf0cnj0423rsfcjlxevgjwll                   ZodexHD   \n",
      "\n",
      "                    DATE                                            CONTENT  \\\n",
      "203  2014-11-07T15:14:48                                        Fantastic!﻿   \n",
      "84   2014-11-03T14:38:53                                  Check my channel﻿   \n",
      "298  2014-11-08T12:34:11  https://www.facebook.com/SchoolGeniusNITS/phot...   \n",
      "27   2014-01-19T00:21:29            Check me out! I'm kyle. I rap so yeah ﻿   \n",
      "162  2014-11-06T17:50:59  look at my channel i make minecraft pe lets pl...   \n",
      "\n",
      "     CLASS  \n",
      "203      0  \n",
      "84       1  \n",
      "298      1  \n",
      "27       1  \n",
      "162      1  \n"
     ]
    }
   ],
   "source": [
    "data = pd.read_csv(\"Youtube01-Psy.csv\")\n",
    "print(data.sample(5))"
   ]
  },
  {
   "cell_type": "markdown",
   "id": "6bbcbcb1",
   "metadata": {},
   "source": [
    "### We only need the content and class column from the dataset for the rest of the task. So let’s select both the columns and move further:"
   ]
  },
  {
   "cell_type": "code",
   "execution_count": 7,
   "id": "01fc4b38",
   "metadata": {},
   "outputs": [],
   "source": [
    "data=data[[\"CONTENT\",\"CLASS\"]]"
   ]
  },
  {
   "cell_type": "code",
   "execution_count": 8,
   "id": "a9fc8ad8",
   "metadata": {},
   "outputs": [
    {
     "name": "stdout",
     "output_type": "stream",
     "text": [
      "                                               CONTENT  CLASS\n",
      "263                                               LoL﻿      0\n",
      "78   -----&gt;&gt;&gt;&gt;  https://www.facebook.co...      1\n",
      "156    Search \"Chubbz Dinero - Ready Or Not \" Thanks ﻿      1\n",
      "74   http://www.guardalo.org/best-of-funny-cats-gat...      1\n",
      "320  If the shitty Chinese Government didn't block ...      0\n"
     ]
    }
   ],
   "source": [
    "print(data.sample(5))"
   ]
  },
  {
   "cell_type": "markdown",
   "id": "6b5c44e5",
   "metadata": {},
   "source": [
    "### The class column contains values 0 and 1. 0 indicates not spam, and 1 indicates spam. So to make it look better, I will use spam and not spam labels instead of 1 and 0:"
   ]
  },
  {
   "cell_type": "code",
   "execution_count": 9,
   "id": "661dd685",
   "metadata": {},
   "outputs": [
    {
     "name": "stdout",
     "output_type": "stream",
     "text": [
      "                                               CONTENT         CLASS\n",
      "228  Like if you came here too see how many views t...      Not Spam\n",
      "288  if i reach 100 subscribers i will go round in ...  Spam Comment\n",
      "265  9 year olds be like, 'How does this have 2 bil...      Not Spam\n",
      "274  You know a song sucks dick when you need to us...      Not Spam\n",
      "91   There is one video on my channel about my brot...  Spam Comment\n"
     ]
    }
   ],
   "source": [
    "data[\"CLASS\"] = data[\"CLASS\"].map({0: \"Not Spam\",\n",
    "                                   1: \"Spam Comment\"})\n",
    "print(data.sample(5))"
   ]
  },
  {
   "cell_type": "markdown",
   "id": "3426e410",
   "metadata": {},
   "source": [
    "## Training a Classification Model\n",
    "\n",
    "Now let’s move further by training a classification Machine Learning model to classify spam and not spam comments. As this problem is a problem of binary classification, I will use the Bernoulli Naive Bayes algorithm to train the model:"
   ]
  },
  {
   "cell_type": "code",
   "execution_count": 10,
   "id": "e0a327d7",
   "metadata": {},
   "outputs": [],
   "source": [
    "x = np.array(data[\"CONTENT\"])\n",
    "y = np.array(data[\"CLASS\"])"
   ]
  },
  {
   "cell_type": "code",
   "execution_count": 12,
   "id": "77c096f2",
   "metadata": {},
   "outputs": [],
   "source": [
    "cv = CountVectorizer()\n",
    "x = cv.fit_transform(x)\n",
    "xtrain, xtest, ytrain, ytest = train_test_split(x, y, test_size=0.2, random_state=42)"
   ]
  },
  {
   "cell_type": "code",
   "execution_count": 13,
   "id": "875104b6",
   "metadata": {},
   "outputs": [
    {
     "name": "stdout",
     "output_type": "stream",
     "text": [
      "0.9857142857142858\n"
     ]
    }
   ],
   "source": [
    "model = BernoulliNB()\n",
    "model.fit(xtrain, ytrain)\n",
    "print(model.score(xtest, ytest))"
   ]
  },
  {
   "cell_type": "markdown",
   "id": "d40aaf90",
   "metadata": {},
   "source": [
    "#### Now let’s test the model by giving spam and not spam comments as input:"
   ]
  },
  {
   "cell_type": "code",
   "execution_count": 14,
   "id": "9c846f45",
   "metadata": {},
   "outputs": [
    {
     "name": "stdout",
     "output_type": "stream",
     "text": [
      "['Spam Comment']\n"
     ]
    }
   ],
   "source": [
    "sample = \"Check this out: https://thecleverprogrammer.com/\" \n",
    "data = cv.transform([sample]).toarray()\n",
    "print(model.predict(data))"
   ]
  },
  {
   "cell_type": "code",
   "execution_count": 15,
   "id": "d9307178",
   "metadata": {},
   "outputs": [
    {
     "name": "stdout",
     "output_type": "stream",
     "text": [
      "['Not Spam']\n"
     ]
    }
   ],
   "source": [
    "sample = \"Lack of information!\" \n",
    "data = cv.transform([sample]).toarray()\n",
    "print(model.predict(data))"
   ]
  },
  {
   "cell_type": "code",
   "execution_count": null,
   "id": "90053fe3",
   "metadata": {},
   "outputs": [],
   "source": []
  }
 ],
 "metadata": {
  "kernelspec": {
   "display_name": "Python 3 (ipykernel)",
   "language": "python",
   "name": "python3"
  },
  "language_info": {
   "codemirror_mode": {
    "name": "ipython",
    "version": 3
   },
   "file_extension": ".py",
   "mimetype": "text/x-python",
   "name": "python",
   "nbconvert_exporter": "python",
   "pygments_lexer": "ipython3",
   "version": "3.9.13"
  }
 },
 "nbformat": 4,
 "nbformat_minor": 5
}
